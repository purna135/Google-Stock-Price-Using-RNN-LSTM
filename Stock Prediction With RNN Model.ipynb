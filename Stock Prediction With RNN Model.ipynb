{
 "cells": [
  {
   "cell_type": "markdown",
   "metadata": {},
   "source": [
    "# Stage 1: Data Aquisition and Insight Creation.\n",
    "\n",
    "### Role of libraries imported:\n",
    "\n",
    "**numpy** - is used to apply mathematical functions and operations to our multi-dimensional arrays.  \n",
    "**matplotlib** - used for Visualization purposes such as ploting graphs for various datapoints.  \n",
    "**pandas** - is basically a data analysis and manipulation tool.  \n",
    "**datetime** - to work with date as date objects.  "
   ]
  },
  {
   "cell_type": "code",
   "execution_count": 1,
   "metadata": {},
   "outputs": [],
   "source": [
    "# Importing the libraries\n",
    "\n",
    "import numpy as np\n",
    "import matplotlib.pyplot as plt\n",
    "import pandas as pd\n",
    "import datetime"
   ]
  },
  {
   "cell_type": "markdown",
   "metadata": {},
   "source": [
    "The historical stock data is collected from the Google Stock Price and this historical data is used for the prediction of future stock prices.\\\n",
    "'read_csv()' is an important pandas function to read csv files and do operations on it."
   ]
  },
  {
   "cell_type": "code",
   "execution_count": 2,
   "metadata": {},
   "outputs": [],
   "source": [
    "# Reading training dataset.\n",
    "dataset = pd.read_csv('Google_Stock_Price_Train.csv',index_col=\"Date\",parse_dates=True)\n"
   ]
  },
  {
   "cell_type": "code",
   "execution_count": 3,
   "metadata": {},
   "outputs": [
    {
     "data": {
      "text/html": [
       "<div>\n",
       "<style scoped>\n",
       "    .dataframe tbody tr th:only-of-type {\n",
       "        vertical-align: middle;\n",
       "    }\n",
       "\n",
       "    .dataframe tbody tr th {\n",
       "        vertical-align: top;\n",
       "    }\n",
       "\n",
       "    .dataframe thead th {\n",
       "        text-align: right;\n",
       "    }\n",
       "</style>\n",
       "<table border=\"1\" class=\"dataframe\">\n",
       "  <thead>\n",
       "    <tr style=\"text-align: right;\">\n",
       "      <th></th>\n",
       "      <th>Open</th>\n",
       "      <th>High</th>\n",
       "      <th>Low</th>\n",
       "      <th>Close</th>\n",
       "      <th>Volume</th>\n",
       "    </tr>\n",
       "    <tr>\n",
       "      <th>Date</th>\n",
       "      <th></th>\n",
       "      <th></th>\n",
       "      <th></th>\n",
       "      <th></th>\n",
       "      <th></th>\n",
       "    </tr>\n",
       "  </thead>\n",
       "  <tbody>\n",
       "    <tr>\n",
       "      <th>2012-01-03</th>\n",
       "      <td>325.25</td>\n",
       "      <td>332.83</td>\n",
       "      <td>324.97</td>\n",
       "      <td>663.59</td>\n",
       "      <td>7,380,500</td>\n",
       "    </tr>\n",
       "    <tr>\n",
       "      <th>2012-01-04</th>\n",
       "      <td>331.27</td>\n",
       "      <td>333.87</td>\n",
       "      <td>329.08</td>\n",
       "      <td>666.45</td>\n",
       "      <td>5,749,400</td>\n",
       "    </tr>\n",
       "    <tr>\n",
       "      <th>2012-01-05</th>\n",
       "      <td>329.83</td>\n",
       "      <td>330.75</td>\n",
       "      <td>326.89</td>\n",
       "      <td>657.21</td>\n",
       "      <td>6,590,300</td>\n",
       "    </tr>\n",
       "    <tr>\n",
       "      <th>2012-01-06</th>\n",
       "      <td>328.34</td>\n",
       "      <td>328.77</td>\n",
       "      <td>323.68</td>\n",
       "      <td>648.24</td>\n",
       "      <td>5,405,900</td>\n",
       "    </tr>\n",
       "    <tr>\n",
       "      <th>2012-01-09</th>\n",
       "      <td>322.04</td>\n",
       "      <td>322.29</td>\n",
       "      <td>309.46</td>\n",
       "      <td>620.76</td>\n",
       "      <td>11,688,800</td>\n",
       "    </tr>\n",
       "  </tbody>\n",
       "</table>\n",
       "</div>"
      ],
      "text/plain": [
       "              Open    High     Low   Close      Volume\n",
       "Date                                                  \n",
       "2012-01-03  325.25  332.83  324.97  663.59   7,380,500\n",
       "2012-01-04  331.27  333.87  329.08  666.45   5,749,400\n",
       "2012-01-05  329.83  330.75  326.89  657.21   6,590,300\n",
       "2012-01-06  328.34  328.77  323.68  648.24   5,405,900\n",
       "2012-01-09  322.04  322.29  309.46  620.76  11,688,800"
      ]
     },
     "execution_count": 3,
     "metadata": {},
     "output_type": "execute_result"
    }
   ],
   "source": [
    "# Printing top 5 rows of dataset.\n",
    "dataset.head()\n"
   ]
  },
  {
   "cell_type": "markdown",
   "metadata": {},
   "source": [
    "**There are six columns in this dataset. These columns represent six types of data required to track stock history.**\n",
    "\n",
    "* The first column (out of six columns) shows the date.\n",
    "* The second column is open which is the price from the first transaction of that business day.\n",
    "* The third column, high, represents the maximum price reached in a given period of time at that particular business day.\n",
    "* Similarly, the fourth column, low, represents the minimun price reached in a given period of time at that particular business day.\n",
    "* The fifth column is close which is the price from the last transaction of that business day.\n",
    "* And the last column which is volume is nothing but the number of shares and contracts traded in a security. In context of a single stock trading on a stock exchange, the volume is commonly reported as the number of shares that changed hands during a given day.\n",
    "\n",
    "The transactions are then measured in stocks, bonds, options, contracts, future contracts and commodities."
   ]
  },
  {
   "cell_type": "code",
   "execution_count": 4,
   "metadata": {},
   "outputs": [
    {
     "data": {
      "text/html": [
       "<div>\n",
       "<style scoped>\n",
       "    .dataframe tbody tr th:only-of-type {\n",
       "        vertical-align: middle;\n",
       "    }\n",
       "\n",
       "    .dataframe tbody tr th {\n",
       "        vertical-align: top;\n",
       "    }\n",
       "\n",
       "    .dataframe thead th {\n",
       "        text-align: right;\n",
       "    }\n",
       "</style>\n",
       "<table border=\"1\" class=\"dataframe\">\n",
       "  <thead>\n",
       "    <tr style=\"text-align: right;\">\n",
       "      <th></th>\n",
       "      <th>Open</th>\n",
       "      <th>High</th>\n",
       "      <th>Low</th>\n",
       "      <th>Close</th>\n",
       "      <th>Volume</th>\n",
       "    </tr>\n",
       "    <tr>\n",
       "      <th>Date</th>\n",
       "      <th></th>\n",
       "      <th></th>\n",
       "      <th></th>\n",
       "      <th></th>\n",
       "      <th></th>\n",
       "    </tr>\n",
       "  </thead>\n",
       "  <tbody>\n",
       "    <tr>\n",
       "      <th>2016-12-23</th>\n",
       "      <td>790.90</td>\n",
       "      <td>792.74</td>\n",
       "      <td>787.28</td>\n",
       "      <td>789.91</td>\n",
       "      <td>623,400</td>\n",
       "    </tr>\n",
       "    <tr>\n",
       "      <th>2016-12-27</th>\n",
       "      <td>790.68</td>\n",
       "      <td>797.86</td>\n",
       "      <td>787.66</td>\n",
       "      <td>791.55</td>\n",
       "      <td>789,100</td>\n",
       "    </tr>\n",
       "    <tr>\n",
       "      <th>2016-12-28</th>\n",
       "      <td>793.70</td>\n",
       "      <td>794.23</td>\n",
       "      <td>783.20</td>\n",
       "      <td>785.05</td>\n",
       "      <td>1,153,800</td>\n",
       "    </tr>\n",
       "    <tr>\n",
       "      <th>2016-12-29</th>\n",
       "      <td>783.33</td>\n",
       "      <td>785.93</td>\n",
       "      <td>778.92</td>\n",
       "      <td>782.79</td>\n",
       "      <td>744,300</td>\n",
       "    </tr>\n",
       "    <tr>\n",
       "      <th>2016-12-30</th>\n",
       "      <td>782.75</td>\n",
       "      <td>782.78</td>\n",
       "      <td>770.41</td>\n",
       "      <td>771.82</td>\n",
       "      <td>1,770,000</td>\n",
       "    </tr>\n",
       "  </tbody>\n",
       "</table>\n",
       "</div>"
      ],
      "text/plain": [
       "              Open    High     Low   Close     Volume\n",
       "Date                                                 \n",
       "2016-12-23  790.90  792.74  787.28  789.91    623,400\n",
       "2016-12-27  790.68  797.86  787.66  791.55    789,100\n",
       "2016-12-28  793.70  794.23  783.20  785.05  1,153,800\n",
       "2016-12-29  783.33  785.93  778.92  782.79    744,300\n",
       "2016-12-30  782.75  782.78  770.41  771.82  1,770,000"
      ]
     },
     "execution_count": 4,
     "metadata": {},
     "output_type": "execute_result"
    }
   ],
   "source": [
    "# Similarly, printing last 5 rows of dataset.\n",
    "dataset.tail()\n"
   ]
  },
  {
   "cell_type": "code",
   "execution_count": 5,
   "metadata": {},
   "outputs": [
    {
     "data": {
      "text/plain": [
       "Open      False\n",
       "High      False\n",
       "Low       False\n",
       "Close     False\n",
       "Volume    False\n",
       "dtype: bool"
      ]
     },
     "execution_count": 5,
     "metadata": {},
     "output_type": "execute_result"
    }
   ],
   "source": [
    "# Check if any of data is not applicable.\n",
    "# The Boolean output 'False' represents that we have no non-applicable values.\n",
    "dataset.isna().any()\n"
   ]
  },
  {
   "cell_type": "code",
   "execution_count": 6,
   "metadata": {},
   "outputs": [
    {
     "name": "stdout",
     "output_type": "stream",
     "text": [
      "<class 'pandas.core.frame.DataFrame'>\n",
      "DatetimeIndex: 1258 entries, 2012-01-03 to 2016-12-30\n",
      "Data columns (total 5 columns):\n",
      " #   Column  Non-Null Count  Dtype  \n",
      "---  ------  --------------  -----  \n",
      " 0   Open    1258 non-null   float64\n",
      " 1   High    1258 non-null   float64\n",
      " 2   Low     1258 non-null   float64\n",
      " 3   Close   1258 non-null   object \n",
      " 4   Volume  1258 non-null   object \n",
      "dtypes: float64(3), object(2)\n",
      "memory usage: 59.0+ KB\n"
     ]
    }
   ],
   "source": [
    "# Now printing the basic informations of our dataset.\n",
    "dataset.info()\n"
   ]
  },
  {
   "cell_type": "code",
   "execution_count": 7,
   "metadata": {},
   "outputs": [
    {
     "data": {
      "image/png": "[encoded data removed]",
      "text/plain": [
       "<Figure size 1152x432 with 1 Axes>"
      ]
     },
     "metadata": {
      "needs_background": "light"
     },
     "output_type": "display_data"
    }
   ],
   "source": [
    "# Now plotting graph for growth of opening price from 2012 to 2017.\n",
    "dataset['Open'].plot(figsize=(16,6))\n",
    "plt.savefig(\"Outputs/growth of opening price from 2012-17.png\")"
   ]
  },
  {
   "cell_type": "markdown",
   "metadata": {},
   "source": [
    "**As we have noticed earlier from the data that three of the columns have data types** _float_ **while two have** _object_ **. Hence to homogenize it we are going to convert the column types of the dataframe.**"
   ]
  },
  {
   "cell_type": "code",
   "execution_count": 8,
   "metadata": {},
   "outputs": [],
   "source": [
    "# converting str to str and replacing commas with None:\n",
    "dataset[\"Close\"] = dataset[\"Close\"].astype(str).str.replace(',', '')\n",
    "\n",
    "# Converting str to float\n",
    "dataset[\"Close\"] = dataset[\"Close\"].astype(float)\n"
   ]
  },
  {
   "cell_type": "code",
   "execution_count": 9,
   "metadata": {},
   "outputs": [],
   "source": [
    "# converting str to str and replacing commas with None:\n",
    "dataset[\"Volume\"] = dataset[\"Volume\"].astype(str).str.replace(',', '')\n",
    "\n",
    "# Converting str to float\n",
    "dataset[\"Volume\"] = dataset[\"Volume\"].astype(float)\n"
   ]
  },
  {
   "cell_type": "code",
   "execution_count": 10,
   "metadata": {},
   "outputs": [
    {
     "name": "stdout",
     "output_type": "stream",
     "text": [
      "<class 'pandas.core.frame.DataFrame'>\n",
      "DatetimeIndex: 1258 entries, 2012-01-03 to 2016-12-30\n",
      "Data columns (total 5 columns):\n",
      " #   Column  Non-Null Count  Dtype  \n",
      "---  ------  --------------  -----  \n",
      " 0   Open    1258 non-null   float64\n",
      " 1   High    1258 non-null   float64\n",
      " 2   Low     1258 non-null   float64\n",
      " 3   Close   1258 non-null   float64\n",
      " 4   Volume  1258 non-null   float64\n",
      "dtypes: float64(5)\n",
      "memory usage: 59.0 KB\n"
     ]
    }
   ],
   "source": [
    "# Now again checking the data types of given columns.\n",
    "dataset.info()\n"
   ]
  },
  {
   "cell_type": "markdown",
   "metadata": {},
   "source": [
    "### Taking a look at rolling averages (or often called as 'rolling mean')\n",
    "\n",
    "In statistics, a [rolling average](https://en.wikipedia.org/wiki/Moving_average) (moving average or running average) is a calculation to analyze data points by creating a series of averages of different subsets of the full data set. It is also called a moving mean (MM) or rolling mean and is a type of finite impulse response filter.\n",
    "\n",
    "**Hmm..! That means a Simple Rolling Average is the unweighted mean of the last n values.**"
   ]
  },
  {
   "cell_type": "code",
   "execution_count": 11,
   "metadata": {
    "scrolled": true
   },
   "outputs": [
    {
     "data": {
      "text/html": [
       "<div>\n",
       "<style scoped>\n",
       "    .dataframe tbody tr th:only-of-type {\n",
       "        vertical-align: middle;\n",
       "    }\n",
       "\n",
       "    .dataframe tbody tr th {\n",
       "        vertical-align: top;\n",
       "    }\n",
       "\n",
       "    .dataframe thead th {\n",
       "        text-align: right;\n",
       "    }\n",
       "</style>\n",
       "<table border=\"1\" class=\"dataframe\">\n",
       "  <thead>\n",
       "    <tr style=\"text-align: right;\">\n",
       "      <th></th>\n",
       "      <th>Open</th>\n",
       "      <th>High</th>\n",
       "      <th>Low</th>\n",
       "      <th>Close</th>\n",
       "      <th>Volume</th>\n",
       "    </tr>\n",
       "    <tr>\n",
       "      <th>Date</th>\n",
       "      <th></th>\n",
       "      <th></th>\n",
       "      <th></th>\n",
       "      <th></th>\n",
       "      <th></th>\n",
       "    </tr>\n",
       "  </thead>\n",
       "  <tbody>\n",
       "    <tr>\n",
       "      <th>2012-01-03</th>\n",
       "      <td>NaN</td>\n",
       "      <td>NaN</td>\n",
       "      <td>NaN</td>\n",
       "      <td>NaN</td>\n",
       "      <td>NaN</td>\n",
       "    </tr>\n",
       "    <tr>\n",
       "      <th>2012-01-04</th>\n",
       "      <td>NaN</td>\n",
       "      <td>NaN</td>\n",
       "      <td>NaN</td>\n",
       "      <td>NaN</td>\n",
       "      <td>NaN</td>\n",
       "    </tr>\n",
       "    <tr>\n",
       "      <th>2012-01-05</th>\n",
       "      <td>NaN</td>\n",
       "      <td>NaN</td>\n",
       "      <td>NaN</td>\n",
       "      <td>NaN</td>\n",
       "      <td>NaN</td>\n",
       "    </tr>\n",
       "    <tr>\n",
       "      <th>2012-01-06</th>\n",
       "      <td>NaN</td>\n",
       "      <td>NaN</td>\n",
       "      <td>NaN</td>\n",
       "      <td>NaN</td>\n",
       "      <td>NaN</td>\n",
       "    </tr>\n",
       "    <tr>\n",
       "      <th>2012-01-09</th>\n",
       "      <td>NaN</td>\n",
       "      <td>NaN</td>\n",
       "      <td>NaN</td>\n",
       "      <td>NaN</td>\n",
       "      <td>NaN</td>\n",
       "    </tr>\n",
       "    <tr>\n",
       "      <th>2012-01-10</th>\n",
       "      <td>NaN</td>\n",
       "      <td>NaN</td>\n",
       "      <td>NaN</td>\n",
       "      <td>NaN</td>\n",
       "      <td>NaN</td>\n",
       "    </tr>\n",
       "    <tr>\n",
       "      <th>2012-01-11</th>\n",
       "      <td>323.002857</td>\n",
       "      <td>325.392857</td>\n",
       "      <td>318.682857</td>\n",
       "      <td>643.132857</td>\n",
       "      <td>7.208100e+06</td>\n",
       "    </tr>\n",
       "    <tr>\n",
       "      <th>2012-01-12</th>\n",
       "      <td>321.457143</td>\n",
       "      <td>322.882857</td>\n",
       "      <td>316.841429</td>\n",
       "      <td>638.037143</td>\n",
       "      <td>6.691514e+06</td>\n",
       "    </tr>\n",
       "    <tr>\n",
       "      <th>2012-01-13</th>\n",
       "      <td>318.698571</td>\n",
       "      <td>319.801429</td>\n",
       "      <td>314.025714</td>\n",
       "      <td>631.870000</td>\n",
       "      <td>6.531857e+06</td>\n",
       "    </tr>\n",
       "    <tr>\n",
       "      <th>2012-01-17</th>\n",
       "      <td>316.552857</td>\n",
       "      <td>317.524286</td>\n",
       "      <td>311.851429</td>\n",
       "      <td>627.534286</td>\n",
       "      <td>6.137929e+06</td>\n",
       "    </tr>\n",
       "    <tr>\n",
       "      <th>2012-01-18</th>\n",
       "      <td>314.238571</td>\n",
       "      <td>315.674286</td>\n",
       "      <td>309.882857</td>\n",
       "      <td>625.097143</td>\n",
       "      <td>6.157657e+06</td>\n",
       "    </tr>\n",
       "    <tr>\n",
       "      <th>2012-01-19</th>\n",
       "      <td>313.847143</td>\n",
       "      <td>315.247143</td>\n",
       "      <td>310.610000</td>\n",
       "      <td>627.534286</td>\n",
       "      <td>6.296086e+06</td>\n",
       "    </tr>\n",
       "    <tr>\n",
       "      <th>2012-01-20</th>\n",
       "      <td>311.055714</td>\n",
       "      <td>312.201429</td>\n",
       "      <td>308.104286</td>\n",
       "      <td>622.242857</td>\n",
       "      <td>8.068629e+06</td>\n",
       "    </tr>\n",
       "    <tr>\n",
       "      <th>2012-01-23</th>\n",
       "      <td>308.387143</td>\n",
       "      <td>309.302857</td>\n",
       "      <td>305.402857</td>\n",
       "      <td>616.481429</td>\n",
       "      <td>8.359129e+06</td>\n",
       "    </tr>\n",
       "    <tr>\n",
       "      <th>2012-01-24</th>\n",
       "      <td>305.192857</td>\n",
       "      <td>306.085714</td>\n",
       "      <td>301.951429</td>\n",
       "      <td>609.541429</td>\n",
       "      <td>8.697700e+06</td>\n",
       "    </tr>\n",
       "    <tr>\n",
       "      <th>2012-01-25</th>\n",
       "      <td>301.724286</td>\n",
       "      <td>302.652857</td>\n",
       "      <td>298.060000</td>\n",
       "      <td>601.634286</td>\n",
       "      <td>9.466400e+06</td>\n",
       "    </tr>\n",
       "    <tr>\n",
       "      <th>2012-01-26</th>\n",
       "      <td>297.454286</td>\n",
       "      <td>298.561429</td>\n",
       "      <td>293.710000</td>\n",
       "      <td>593.017143</td>\n",
       "      <td>9.844071e+06</td>\n",
       "    </tr>\n",
       "    <tr>\n",
       "      <th>2012-01-27</th>\n",
       "      <td>293.480000</td>\n",
       "      <td>294.741429</td>\n",
       "      <td>289.952857</td>\n",
       "      <td>585.475714</td>\n",
       "      <td>1.008950e+07</td>\n",
       "    </tr>\n",
       "    <tr>\n",
       "      <th>2012-01-30</th>\n",
       "      <td>289.001429</td>\n",
       "      <td>290.401429</td>\n",
       "      <td>285.821429</td>\n",
       "      <td>576.660000</td>\n",
       "      <td>8.949586e+06</td>\n",
       "    </tr>\n",
       "    <tr>\n",
       "      <th>2012-01-31</th>\n",
       "      <td>288.465714</td>\n",
       "      <td>289.902857</td>\n",
       "      <td>285.355714</td>\n",
       "      <td>575.821429</td>\n",
       "      <td>6.530857e+06</td>\n",
       "    </tr>\n",
       "  </tbody>\n",
       "</table>\n",
       "</div>"
      ],
      "text/plain": [
       "                  Open        High         Low       Close        Volume\n",
       "Date                                                                    \n",
       "2012-01-03         NaN         NaN         NaN         NaN           NaN\n",
       "2012-01-04         NaN         NaN         NaN         NaN           NaN\n",
       "2012-01-05         NaN         NaN         NaN         NaN           NaN\n",
       "2012-01-06         NaN         NaN         NaN         NaN           NaN\n",
       "2012-01-09         NaN         NaN         NaN         NaN           NaN\n",
       "2012-01-10         NaN         NaN         NaN         NaN           NaN\n",
       "2012-01-11  323.002857  325.392857  318.682857  643.132857  7.208100e+06\n",
       "2012-01-12  321.457143  322.882857  316.841429  638.037143  6.691514e+06\n",
       "2012-01-13  318.698571  319.801429  314.025714  631.870000  6.531857e+06\n",
       "2012-01-17  316.552857  317.524286  311.851429  627.534286  6.137929e+06\n",
       "2012-01-18  314.238571  315.674286  309.882857  625.097143  6.157657e+06\n",
       "2012-01-19  313.847143  315.247143  310.610000  627.534286  6.296086e+06\n",
       "2012-01-20  311.055714  312.201429  308.104286  622.242857  8.068629e+06\n",
       "2012-01-23  308.387143  309.302857  305.402857  616.481429  8.359129e+06\n",
       "2012-01-24  305.192857  306.085714  301.951429  609.541429  8.697700e+06\n",
       "2012-01-25  301.724286  302.652857  298.060000  601.634286  9.466400e+06\n",
       "2012-01-26  297.454286  298.561429  293.710000  593.017143  9.844071e+06\n",
       "2012-01-27  293.480000  294.741429  289.952857  585.475714  1.008950e+07\n",
       "2012-01-30  289.001429  290.401429  285.821429  576.660000  8.949586e+06\n",
       "2012-01-31  288.465714  289.902857  285.355714  575.821429  6.530857e+06"
      ]
     },
     "execution_count": 11,
     "metadata": {},
     "output_type": "execute_result"
    }
   ],
   "source": [
    "# Now we are interested in calculating 7 day rolling mean of our stock price.\n",
    "# head() function here is going to give us first 20 rows.\n",
    "dataset.rolling(7).mean().head(20)"
   ]
  },
  {
   "cell_type": "markdown",
   "metadata": {},
   "source": [
    "**Important:**\\\n",
    "As we can see in above table, there is no output for first 6 days.\\\n",
    "Confused..? Let me explain!\\\n",
    "We have passed value 7 to the rolling function in pandas library.\\\n",
    "Now, what it does is that it takes the average of last 7 days and prints it on the latest date. Thus average of 3rd, 4th, 5th, 6th, 9th, 10th and 11th day of January is printed on 2012-01-11. But to print the 7 day rolling mean of 2012-01-10, we need to have one more row of data before 3rd of January."
   ]
  },
  {
   "cell_type": "markdown",
   "metadata": {},
   "source": [
    "### Okay! Let's compare our earlier graph of growth of 'Open' price with the rolling average curve for the same:\n",
    "* earlier graph represented by blue color\n",
    "* and rolling graph represented by orange color"
   ]
  },
  {
   "cell_type": "code",
   "execution_count": 12,
   "metadata": {},
   "outputs": [
    {
     "data": {
      "image/png": "[encoded data removed]",
      "text/plain": [
       "<Figure size 1152x432 with 1 Axes>"
      ]
     },
     "metadata": {
      "needs_background": "light"
     },
     "output_type": "display_data"
    }
   ],
   "source": [
    "# Ploting 30 day rolling mean of 'Open' price along with\n",
    "# the earlier graph of growth of 'Open' price.\n",
    "dataset['Open'].plot(figsize=(16,6))\n",
    "dataset.rolling(window=30).mean()['Open'].plot()\n",
    "plt.savefig(\"Outputs/Open price vs 30 day rolling.png\")"
   ]
  },
  {
   "cell_type": "markdown",
   "metadata": {},
   "source": [
    "### Now compare 'Close' price with its rolling mean:"
   ]
  },
  {
   "cell_type": "code",
   "execution_count": 13,
   "metadata": {},
   "outputs": [
    {
     "data": {
      "image/png": "[encoded data removed]",
      "text/plain": [
       "<Figure size 1152x432 with 1 Axes>"
      ]
     },
     "metadata": {
      "needs_background": "light"
     },
     "output_type": "display_data"
    }
   ],
   "source": [
    "# Plotting graph of 'Close' price with its 30 day rolling mean.\n",
    "dataset['Close: 30 Day Mean'] = dataset['Close'].rolling(window=30).mean()\n",
    "dataset[['Close','Close: 30 Day Mean']].plot(figsize=(16,6))\n",
    "plt.savefig(\"Outputs/Close price vs 30 day rolling.png\")\n"
   ]
  },
  {
   "cell_type": "markdown",
   "metadata": {},
   "source": [
    "**We also have an option to specify a minimum number of period. So if we keep a minimum period of 1 then it means that minimum number of observation per window (which is of 30 days) should be one.**"
   ]
  },
  {
   "cell_type": "code",
   "execution_count": 14,
   "metadata": {},
   "outputs": [
    {
     "data": {
      "image/png": "[encoded data removed]",
      "text/plain": [
       "<Figure size 1152x432 with 1 Axes>"
      ]
     },
     "metadata": {
      "needs_background": "light"
     },
     "output_type": "display_data"
    }
   ],
   "source": [
    "# Optionally we can specify a minimum number of periods.\n",
    "dataset['Close'].expanding(min_periods=1).mean().plot(figsize=(16,6))\n",
    "plt.savefig(\"Outputs/Understanding minimum period.png\")\n"
   ]
  },
  {
   "cell_type": "markdown",
   "metadata": {},
   "source": [
    "### Now finally here we are creating our first dataframe."
   ]
  },
  {
   "cell_type": "code",
   "execution_count": 15,
   "metadata": {},
   "outputs": [],
   "source": [
    "training_set=dataset['Open']\n",
    "training_set=pd.DataFrame(training_set)\n"
   ]
  },
  {
   "cell_type": "markdown",
   "metadata": {},
   "source": [
    "# Stage 2: Data Preprocessing\n",
    "\n",
    "### The preprocessing stage involves:\n",
    "* Data discretization (where we'll reduce a part of our data but with particular importance for the numerical data)\n",
    "* Data transformation (which is nothing but data normalization)\n",
    "* Data cleaning (fill in the missing values making a proper dataframe)\n",
    "* Data integration (integrate data files)\n",
    "\n",
    "After the data is transformed into a clean dataset, the dataset is divided into training and testing sets to evaluate."
   ]
  },
  {
   "cell_type": "code",
   "execution_count": 16,
   "metadata": {},
   "outputs": [
    {
     "data": {
      "text/plain": [
       "Open                  False\n",
       "High                  False\n",
       "Low                   False\n",
       "Close                 False\n",
       "Volume                False\n",
       "Close: 30 Day Mean     True\n",
       "dtype: bool"
      ]
     },
     "execution_count": 16,
     "metadata": {},
     "output_type": "execute_result"
    }
   ],
   "source": [
    "# Data Cleaning\n",
    "# Checking if there is any non-applicable possibility\n",
    "dataset.isna().any()"
   ]
  },
  {
   "cell_type": "markdown",
   "metadata": {},
   "source": [
    "### Now in the next cell we are going to import MinMaxScaler() function from the Sklearn library. The installation process of this library has already been mentioned in the 'Installation Requirements.md' file available in this project folder."
   ]
  },
  {
   "cell_type": "code",
   "execution_count": 17,
   "metadata": {},
   "outputs": [],
   "source": [
    "# Feature Scaling\n",
    "from sklearn.preprocessing import MinMaxScaler\n",
    "sc = MinMaxScaler(feature_range = (0, 1))\n",
    "training_set_scaled = sc.fit_transform(training_set)"
   ]
  },
  {
   "cell_type": "code",
   "execution_count": 18,
   "metadata": {},
   "outputs": [],
   "source": [
    "# Creating a data structure with 60 timesteps and 1 output\n",
    "X_train = []\n",
    "y_train = []\n",
    "for i in range(60, 1258):\n",
    "    X_train.append(training_set_scaled[i-60:i, 0])\n",
    "    y_train.append(training_set_scaled[i, 0])\n",
    "X_train, y_train = np.array(X_train), np.array(y_train)\n",
    "\n",
    "# Reshaping\n",
    "X_train = np.reshape(X_train, (X_train.shape[0], X_train.shape[1], 1))"
   ]
  },
  {
   "cell_type": "markdown",
   "metadata": {},
   "source": [
    "In timestepwhat actually we are doing is that we are taking data of 60 days and predicting the price at 61st day. Similarly, taking data from 2nd day to 61st day and making prediction for 62nd day, and so on."
   ]
  },
  {
   "cell_type": "markdown",
   "metadata": {},
   "source": [
    "# Stage 3: Feature Extraction\n",
    "\n",
    "In this layer, only the features which are to be fed to the neural network are chosen.\n",
    "\n",
    "### About imported libraries from Keras (which is basically Tensorflows high level API using for building and training deep learning models:\n",
    "* Sequential - which is basically a linear stack of layers through which we can create a sequential model by passing a list through it.\n",
    "* Dense - it is a regular deeply connected neural network layer. It is the most commonly and frequently used layer and is used to change the dimensions of our output vector. The Dense layer basically represents a matrix vector multiplication so the values and the matrices which are trainable parameters get updated during backpropagation. So if we get an m dimension layer as an output, a dense layer is used to change the dimensions of our vector."
   ]
  },
  {
   "cell_type": "code",
   "execution_count": 19,
   "metadata": {},
   "outputs": [
    {
     "name": "stderr",
     "output_type": "stream",
     "text": [
      "Using TensorFlow backend.\n"
     ]
    }
   ],
   "source": [
    "# Building the RNN\n",
    "\n",
    "# Importing the Keras libraries and packages\n",
    "from keras.models import Sequential\n",
    "from keras.layers import Dense\n",
    "from keras.layers import LSTM\n",
    "from keras.layers import Dropout\n",
    "\n"
   ]
  },
  {
   "cell_type": "markdown",
   "metadata": {},
   "source": [
    "# Stage 4: Training Neural Network\n",
    "\n",
    "In this stage, the data is fed to the neural network and trained for prediction assigning random biases and weights."
   ]
  },
  {
   "cell_type": "code",
   "execution_count": 20,
   "metadata": {},
   "outputs": [],
   "source": [
    "# Initialising the RNN\n",
    "regressor = Sequential()\n",
    "\n"
   ]
  },
  {
   "cell_type": "code",
   "execution_count": 21,
   "metadata": {},
   "outputs": [],
   "source": [
    "# Adding the first LSTM layer and some Dropout regularisation\n",
    "regressor.add(LSTM(units = 50, return_sequences = True, input_shape = (X_train.shape[1], 1)))\n",
    "regressor.add(Dropout(0.2))\n",
    "\n",
    "# Adding a second LSTM layer and some Dropout regularisation\n",
    "regressor.add(LSTM(units = 50, return_sequences = True))\n",
    "regressor.add(Dropout(0.2))\n",
    "\n",
    "# Adding a third LSTM layer and some Dropout regularisation\n",
    "regressor.add(LSTM(units = 50, return_sequences = True))\n",
    "regressor.add(Dropout(0.2))\n",
    "\n",
    "# Adding a fourth LSTM layer and some Dropout regularisation\n",
    "regressor.add(LSTM(units = 50))\n",
    "regressor.add(Dropout(0.2))\n",
    "\n",
    "# Adding the output layer\n",
    "regressor.add(Dense(units = 1))\n",
    "\n"
   ]
  },
  {
   "cell_type": "markdown",
   "metadata": {},
   "source": [
    "### 4.1: Optimizer\n",
    "Next we are going to compile our RNN. Here we'll be using something called as an optimizer.\\\n",
    "An optimizer is one of the two arguments required to process sequential data using _Sequential()_ function in Keras library.\n",
    "\n",
    "**Type of Optimizer**\n",
    "The type of of optimizer used can greatly affect how fast the algorothim converges to the minimum value. Here we have chosen to use **Adam** optimizer. The Adam optimizer combines the perks of two other optimizers:\\\n",
    "**ADAgrad** and **RMSprop**\n",
    "\n",
    "Now the ADAgrad optimizer essentially uses a different learning rate for every parameter and every step. The reasoning behind it is that parameters that are infrequent must have larger learning rates while parameters that are frequent must have smaller learning rates.\\\n",
    "\n",
    "_In other words, the learning rate is calculated based on the past gradients that have been computed for each parameter._\n",
    "\n",
    "Talking about RMSprop, it considers fixing the diminishing learning rate by only using a certain number of previous gradients.\n",
    "\n",
    "As we now have understood both ADAgrad & RMSprop, Let us move on to the Adam(Adaptive Movement Estimation):\\\n",
    "It is another method that computes the adaptive learning rates for each parameter by considering exponentially decaying average of the past gradients.\n",
    "\n",
    "### 4.2: Regularization\n",
    "It is an important aspect of training a model to make sure that the weights do not get too large and start focusing on one data point, hence overfitting. Thus we should always use a penalty for larger weights, where of course the definition of large would depend on the type of regularizer used and we have chosen to use **Tikhonov Regularization.**\n",
    "\n",
    "### 4.3: Dropouts\n",
    "A new method of preventing overfitting considers what happens when some of the neurons are suddenly not working. This forces the model not to be over-dependent on any groups of neurons and consider all of them. Dropouts have found there use in making the neurons more robust and hence allowing them to predict the trend without focusing on any one neuron."
   ]
  },
  {
   "cell_type": "code",
   "execution_count": 22,
   "metadata": {},
   "outputs": [],
   "source": [
    "# Compiling the RNN\n",
    "regressor.compile(optimizer = 'adam', loss = 'mean_squared_error')\n"
   ]
  },
  {
   "cell_type": "markdown",
   "metadata": {},
   "source": [
    "# Stage 5: Output Generation\n",
    "\n",
    "In this stage, the output value generated by the output layer of the RNN is compared with the target value.\\\n",
    "The error or the difference between the target and the obtained output value is minimized by using back propagation algorith."
   ]
  },
  {
   "cell_type": "code",
   "execution_count": 24,
   "metadata": {},
   "outputs": [
    {
     "name": "stdout",
     "output_type": "stream",
     "text": [
      "Epoch 1/100\n",
      "38/38 [==============================] - 4s 115ms/step - loss: 0.0015\n",
      "Epoch 2/100\n",
      "38/38 [==============================] - 5s 121ms/step - loss: 0.0014\n",
      "Epoch 3/100\n",
      "38/38 [==============================] - 5s 119ms/step - loss: 0.0014\n",
      "Epoch 4/100\n",
      "38/38 [==============================] - 5s 121ms/step - loss: 0.0014\n",
      "Epoch 5/100\n",
      "38/38 [==============================] - 4s 116ms/step - loss: 0.0014\n",
      "Epoch 6/100\n",
      "38/38 [==============================] - 4s 117ms/step - loss: 0.0015\n",
      "Epoch 7/100\n",
      "38/38 [==============================] - 4s 113ms/step - loss: 0.0014\n",
      "Epoch 8/100\n",
      "38/38 [==============================] - 4s 114ms/step - loss: 0.0015\n",
      "Epoch 9/100\n",
      "38/38 [==============================] - 4s 117ms/step - loss: 0.0013\n",
      "Epoch 10/100\n",
      "38/38 [==============================] - 4s 116ms/step - loss: 0.0015\n",
      "Epoch 11/100\n",
      "38/38 [==============================] - 4s 117ms/step - loss: 0.0016\n",
      "Epoch 12/100\n",
      "38/38 [==============================] - 4s 115ms/step - loss: 0.0015\n",
      "Epoch 13/100\n",
      "38/38 [==============================] - 4s 116ms/step - loss: 0.0013\n",
      "Epoch 14/100\n",
      "38/38 [==============================] - 4s 117ms/step - loss: 0.0014\n",
      "Epoch 15/100\n",
      "38/38 [==============================] - 4s 118ms/step - loss: 0.0013\n",
      "Epoch 16/100\n",
      "38/38 [==============================] - 5s 124ms/step - loss: 0.0012\n",
      "Epoch 17/100\n",
      "38/38 [==============================] - 5s 120ms/step - loss: 0.0013\n",
      "Epoch 18/100\n",
      "38/38 [==============================] - 5s 130ms/step - loss: 0.0013\n",
      "Epoch 19/100\n",
      "38/38 [==============================] - 4s 114ms/step - loss: 0.0014\n",
      "Epoch 20/100\n",
      "38/38 [==============================] - 4s 114ms/step - loss: 0.0013\n",
      "Epoch 21/100\n",
      "38/38 [==============================] - 5s 127ms/step - loss: 0.0014\n",
      "Epoch 22/100\n",
      "38/38 [==============================] - 5s 131ms/step - loss: 0.0013\n",
      "Epoch 23/100\n",
      "38/38 [==============================] - 5s 121ms/step - loss: 0.0013\n",
      "Epoch 24/100\n",
      "38/38 [==============================] - 4s 114ms/step - loss: 0.0012\n",
      "Epoch 25/100\n",
      "38/38 [==============================] - 4s 114ms/step - loss: 0.0013\n",
      "Epoch 26/100\n",
      "38/38 [==============================] - 4s 115ms/step - loss: 0.0014\n",
      "Epoch 27/100\n",
      "38/38 [==============================] - 4s 113ms/step - loss: 0.0013\n",
      "Epoch 28/100\n",
      "38/38 [==============================] - 4s 118ms/step - loss: 0.0013\n",
      "Epoch 29/100\n",
      "38/38 [==============================] - 4s 116ms/step - loss: 0.0014\n",
      "Epoch 30/100\n",
      "38/38 [==============================] - 5s 119ms/step - loss: 0.0013\n",
      "Epoch 31/100\n",
      "38/38 [==============================] - 4s 115ms/step - loss: 0.0014\n",
      "Epoch 32/100\n",
      "38/38 [==============================] - 4s 114ms/step - loss: 0.0013\n",
      "Epoch 33/100\n",
      "38/38 [==============================] - 4s 115ms/step - loss: 0.0013\n",
      "Epoch 34/100\n",
      "38/38 [==============================] - 4s 114ms/step - loss: 0.0012\n",
      "Epoch 35/100\n",
      "38/38 [==============================] - 4s 115ms/step - loss: 0.0012\n",
      "Epoch 36/100\n",
      "38/38 [==============================] - 4s 114ms/step - loss: 0.0013\n",
      "Epoch 37/100\n",
      "38/38 [==============================] - 4s 114ms/step - loss: 0.0013\n",
      "Epoch 38/100\n",
      "38/38 [==============================] - 4s 117ms/step - loss: 0.0011\n",
      "Epoch 39/100\n",
      "38/38 [==============================] - 4s 114ms/step - loss: 0.0013\n",
      "Epoch 40/100\n",
      "38/38 [==============================] - 4s 115ms/step - loss: 0.0012\n",
      "Epoch 41/100\n",
      "38/38 [==============================] - 4s 114ms/step - loss: 0.0012\n",
      "Epoch 42/100\n",
      "38/38 [==============================] - 5s 119ms/step - loss: 0.0013\n",
      "Epoch 43/100\n",
      "38/38 [==============================] - 5s 118ms/step - loss: 0.0011\n",
      "Epoch 44/100\n",
      "38/38 [==============================] - 4s 115ms/step - loss: 0.0011\n",
      "Epoch 45/100\n",
      "38/38 [==============================] - 4s 117ms/step - loss: 0.0012\n",
      "Epoch 46/100\n",
      "38/38 [==============================] - 4s 113ms/step - loss: 0.0011\n",
      "Epoch 47/100\n",
      "38/38 [==============================] - 4s 114ms/step - loss: 0.0011\n",
      "Epoch 48/100\n",
      "38/38 [==============================] - 4s 113ms/step - loss: 0.0013\n",
      "Epoch 49/100\n",
      "38/38 [==============================] - 4s 113ms/step - loss: 0.0012\n",
      "Epoch 50/100\n",
      "38/38 [==============================] - 4s 114ms/step - loss: 0.0011\n",
      "Epoch 51/100\n",
      "38/38 [==============================] - 4s 113ms/step - loss: 0.0011\n",
      "Epoch 52/100\n",
      "38/38 [==============================] - 4s 116ms/step - loss: 0.0012\n",
      "Epoch 53/100\n",
      "38/38 [==============================] - 4s 114ms/step - loss: 0.0014\n",
      "Epoch 54/100\n",
      "38/38 [==============================] - 4s 113ms/step - loss: 0.0012\n",
      "Epoch 55/100\n",
      "38/38 [==============================] - 4s 117ms/step - loss: 0.0011\n",
      "Epoch 56/100\n",
      "38/38 [==============================] - 4s 116ms/step - loss: 0.0013\n",
      "Epoch 57/100\n",
      "38/38 [==============================] - 4s 117ms/step - loss: 0.0013\n",
      "Epoch 58/100\n",
      "38/38 [==============================] - 4s 114ms/step - loss: 0.0012\n",
      "Epoch 59/100\n",
      "38/38 [==============================] - 4s 114ms/step - loss: 0.0013\n",
      "Epoch 60/100\n",
      "38/38 [==============================] - 4s 116ms/step - loss: 0.0011\n",
      "Epoch 61/100\n",
      "38/38 [==============================] - 4s 113ms/step - loss: 0.0011\n",
      "Epoch 62/100\n",
      "38/38 [==============================] - 4s 114ms/step - loss: 0.0011\n",
      "Epoch 63/100\n",
      "38/38 [==============================] - 4s 113ms/step - loss: 0.0011\n",
      "Epoch 64/100\n",
      "38/38 [==============================] - 4s 115ms/step - loss: 0.0011\n",
      "Epoch 65/100\n",
      "38/38 [==============================] - 4s 113ms/step - loss: 9.8547e-04\n",
      "Epoch 66/100\n",
      "38/38 [==============================] - 4s 113ms/step - loss: 0.0010\n",
      "Epoch 67/100\n",
      "38/38 [==============================] - 4s 115ms/step - loss: 0.0011\n",
      "Epoch 68/100\n",
      "38/38 [==============================] - 4s 118ms/step - loss: 0.0011\n",
      "Epoch 69/100\n",
      "38/38 [==============================] - 5s 120ms/step - loss: 0.0011\n",
      "Epoch 70/100\n",
      "38/38 [==============================] - 5s 119ms/step - loss: 0.0010\n",
      "Epoch 71/100\n",
      "38/38 [==============================] - 4s 116ms/step - loss: 0.0010\n",
      "Epoch 72/100\n",
      "38/38 [==============================] - 4s 115ms/step - loss: 0.0011\n",
      "Epoch 73/100\n",
      "38/38 [==============================] - 4s 114ms/step - loss: 0.0011\n",
      "Epoch 74/100\n",
      "38/38 [==============================] - 4s 118ms/step - loss: 0.0011\n",
      "Epoch 75/100\n",
      "38/38 [==============================] - 4s 114ms/step - loss: 0.0011\n",
      "Epoch 76/100\n",
      "38/38 [==============================] - 4s 116ms/step - loss: 0.0012\n",
      "Epoch 77/100\n",
      "38/38 [==============================] - 4s 117ms/step - loss: 0.0011\n",
      "Epoch 78/100\n",
      "38/38 [==============================] - 4s 117ms/step - loss: 0.0012\n",
      "Epoch 79/100\n",
      "38/38 [==============================] - 4s 117ms/step - loss: 0.0011\n",
      "Epoch 80/100\n",
      "38/38 [==============================] - 4s 117ms/step - loss: 0.0011\n",
      "Epoch 81/100\n",
      "38/38 [==============================] - 4s 118ms/step - loss: 0.0011\n",
      "Epoch 82/100\n",
      "38/38 [==============================] - 5s 123ms/step - loss: 9.9128e-04\n",
      "Epoch 83/100\n",
      "38/38 [==============================] - 4s 116ms/step - loss: 0.0011\n",
      "Epoch 84/100\n",
      "38/38 [==============================] - 5s 119ms/step - loss: 0.0013\n",
      "Epoch 85/100\n",
      "38/38 [==============================] - 5s 125ms/step - loss: 0.0011\n",
      "Epoch 86/100\n",
      "38/38 [==============================] - 5s 121ms/step - loss: 9.9947e-04\n",
      "Epoch 87/100\n",
      "38/38 [==============================] - 4s 115ms/step - loss: 9.4882e-04\n",
      "Epoch 88/100\n",
      "38/38 [==============================] - 4s 115ms/step - loss: 0.0011\n",
      "Epoch 89/100\n",
      "38/38 [==============================] - 4s 118ms/step - loss: 0.0013\n",
      "Epoch 90/100\n",
      "38/38 [==============================] - 5s 133ms/step - loss: 0.0010\n",
      "Epoch 91/100\n",
      "38/38 [==============================] - 5s 129ms/step - loss: 0.0011\n",
      "Epoch 92/100\n",
      "38/38 [==============================] - 4s 114ms/step - loss: 0.0010\n",
      "Epoch 93/100\n",
      "38/38 [==============================] - 4s 114ms/step - loss: 9.9606e-04\n",
      "Epoch 94/100\n",
      "38/38 [==============================] - 4s 118ms/step - loss: 9.9368e-04\n",
      "Epoch 95/100\n",
      "38/38 [==============================] - 5s 119ms/step - loss: 9.5763e-04\n",
      "Epoch 96/100\n",
      "38/38 [==============================] - 5s 120ms/step - loss: 9.6297e-04\n",
      "Epoch 97/100\n",
      "38/38 [==============================] - 4s 116ms/step - loss: 9.8550e-04\n",
      "Epoch 98/100\n",
      "38/38 [==============================] - 4s 117ms/step - loss: 0.0010\n",
      "Epoch 99/100\n",
      "38/38 [==============================] - 4s 116ms/step - loss: 9.9561e-04\n",
      "Epoch 100/100\n",
      "38/38 [==============================] - 4s 116ms/step - loss: 9.9426e-04\n"
     ]
    },
    {
     "data": {
      "text/plain": [
       "<tensorflow.python.keras.callbacks.History at 0x7fe1c479ab10>"
      ]
     },
     "execution_count": 24,
     "metadata": {},
     "output_type": "execute_result"
    }
   ],
   "source": [
    "# Fitting the RNN to the Training set\n",
    "regressor.fit(X_train, y_train, epochs = 100, batch_size = 32)"
   ]
  },
  {
   "cell_type": "markdown",
   "metadata": {},
   "source": [
    "# Stage 6: Visualization\n",
    "\n",
    "A rolling analysis of a time series model is often used to access the model's stability over time. When analyzing financial time series data using a statistical model, a key assumption is that the parameters of the model are constant over time."
   ]
  },
  {
   "cell_type": "code",
   "execution_count": 25,
   "metadata": {},
   "outputs": [],
   "source": [
    "# Part 3 - Making the predictions and visualising the results\n",
    "\n",
    "# Getting the real stock price of 2017\n",
    "dataset_test = pd.read_csv('Google_Stock_Price_Test.csv',index_col=\"Date\",parse_dates=True)\n",
    "\n"
   ]
  },
  {
   "cell_type": "code",
   "execution_count": 27,
   "metadata": {},
   "outputs": [],
   "source": [
    "real_stock_price = dataset_test.iloc[:, 1:2].values"
   ]
  },
  {
   "cell_type": "code",
   "execution_count": 28,
   "metadata": {},
   "outputs": [
    {
     "data": {
      "text/html": [
       "<div>\n",
       "<style scoped>\n",
       "    .dataframe tbody tr th:only-of-type {\n",
       "        vertical-align: middle;\n",
       "    }\n",
       "\n",
       "    .dataframe tbody tr th {\n",
       "        vertical-align: top;\n",
       "    }\n",
       "\n",
       "    .dataframe thead th {\n",
       "        text-align: right;\n",
       "    }\n",
       "</style>\n",
       "<table border=\"1\" class=\"dataframe\">\n",
       "  <thead>\n",
       "    <tr style=\"text-align: right;\">\n",
       "      <th></th>\n",
       "      <th>Open</th>\n",
       "      <th>High</th>\n",
       "      <th>Low</th>\n",
       "      <th>Close</th>\n",
       "      <th>Volume</th>\n",
       "    </tr>\n",
       "    <tr>\n",
       "      <th>Date</th>\n",
       "      <th></th>\n",
       "      <th></th>\n",
       "      <th></th>\n",
       "      <th></th>\n",
       "      <th></th>\n",
       "    </tr>\n",
       "  </thead>\n",
       "  <tbody>\n",
       "    <tr>\n",
       "      <th>2017-01-03</th>\n",
       "      <td>778.81</td>\n",
       "      <td>789.63</td>\n",
       "      <td>775.80</td>\n",
       "      <td>786.14</td>\n",
       "      <td>1,657,300</td>\n",
       "    </tr>\n",
       "    <tr>\n",
       "      <th>2017-01-04</th>\n",
       "      <td>788.36</td>\n",
       "      <td>791.34</td>\n",
       "      <td>783.16</td>\n",
       "      <td>786.90</td>\n",
       "      <td>1,073,000</td>\n",
       "    </tr>\n",
       "    <tr>\n",
       "      <th>2017-01-05</th>\n",
       "      <td>786.08</td>\n",
       "      <td>794.48</td>\n",
       "      <td>785.02</td>\n",
       "      <td>794.02</td>\n",
       "      <td>1,335,200</td>\n",
       "    </tr>\n",
       "    <tr>\n",
       "      <th>2017-01-06</th>\n",
       "      <td>795.26</td>\n",
       "      <td>807.90</td>\n",
       "      <td>792.20</td>\n",
       "      <td>806.15</td>\n",
       "      <td>1,640,200</td>\n",
       "    </tr>\n",
       "    <tr>\n",
       "      <th>2017-01-09</th>\n",
       "      <td>806.40</td>\n",
       "      <td>809.97</td>\n",
       "      <td>802.83</td>\n",
       "      <td>806.65</td>\n",
       "      <td>1,272,400</td>\n",
       "    </tr>\n",
       "  </tbody>\n",
       "</table>\n",
       "</div>"
      ],
      "text/plain": [
       "              Open    High     Low   Close     Volume\n",
       "Date                                                 \n",
       "2017-01-03  778.81  789.63  775.80  786.14  1,657,300\n",
       "2017-01-04  788.36  791.34  783.16  786.90  1,073,000\n",
       "2017-01-05  786.08  794.48  785.02  794.02  1,335,200\n",
       "2017-01-06  795.26  807.90  792.20  806.15  1,640,200\n",
       "2017-01-09  806.40  809.97  802.83  806.65  1,272,400"
      ]
     },
     "execution_count": 28,
     "metadata": {},
     "output_type": "execute_result"
    }
   ],
   "source": [
    "dataset_test.head()"
   ]
  },
  {
   "cell_type": "code",
   "execution_count": 29,
   "metadata": {},
   "outputs": [
    {
     "name": "stdout",
     "output_type": "stream",
     "text": [
      "<class 'pandas.core.frame.DataFrame'>\n",
      "DatetimeIndex: 20 entries, 2017-01-03 to 2017-01-31\n",
      "Data columns (total 5 columns):\n",
      " #   Column  Non-Null Count  Dtype  \n",
      "---  ------  --------------  -----  \n",
      " 0   Open    20 non-null     float64\n",
      " 1   High    20 non-null     float64\n",
      " 2   Low     20 non-null     float64\n",
      " 3   Close   20 non-null     float64\n",
      " 4   Volume  20 non-null     object \n",
      "dtypes: float64(4), object(1)\n",
      "memory usage: 960.0+ bytes\n"
     ]
    }
   ],
   "source": [
    "dataset_test.info()"
   ]
  },
  {
   "cell_type": "code",
   "execution_count": 30,
   "metadata": {},
   "outputs": [],
   "source": [
    "dataset_test[\"Volume\"] = dataset_test[\"Volume\"].str.replace(',', '').astype(float)"
   ]
  },
  {
   "cell_type": "code",
   "execution_count": 31,
   "metadata": {},
   "outputs": [],
   "source": [
    "test_set=dataset_test['Open']\n",
    "test_set=pd.DataFrame(test_set)"
   ]
  },
  {
   "cell_type": "code",
   "execution_count": 32,
   "metadata": {},
   "outputs": [
    {
     "name": "stdout",
     "output_type": "stream",
     "text": [
      "<class 'pandas.core.frame.DataFrame'>\n",
      "DatetimeIndex: 20 entries, 2017-01-03 to 2017-01-31\n",
      "Data columns (total 1 columns):\n",
      " #   Column  Non-Null Count  Dtype  \n",
      "---  ------  --------------  -----  \n",
      " 0   Open    20 non-null     float64\n",
      "dtypes: float64(1)\n",
      "memory usage: 320.0 bytes\n"
     ]
    }
   ],
   "source": [
    "test_set.info()"
   ]
  },
  {
   "cell_type": "code",
   "execution_count": 33,
   "metadata": {},
   "outputs": [],
   "source": [
    "# Getting the predicted stock price of 2017\n",
    "dataset_total = pd.concat((dataset['Open'], dataset_test['Open']), axis = 0)\n",
    "inputs = dataset_total[len(dataset_total) - len(dataset_test) - 60:].values\n",
    "inputs = inputs.reshape(-1,1)\n",
    "inputs = sc.transform(inputs)\n",
    "X_test = []\n",
    "for i in range(60, 80):\n",
    "    X_test.append(inputs[i-60:i, 0])\n",
    "X_test = np.array(X_test)\n",
    "X_test = np.reshape(X_test, (X_test.shape[0], X_test.shape[1], 1))\n",
    "predicted_stock_price = regressor.predict(X_test)\n",
    "predicted_stock_price = sc.inverse_transform(predicted_stock_price)"
   ]
  },
  {
   "cell_type": "code",
   "execution_count": 34,
   "metadata": {},
   "outputs": [
    {
     "name": "stdout",
     "output_type": "stream",
     "text": [
      "<class 'pandas.core.frame.DataFrame'>\n",
      "RangeIndex: 20 entries, 0 to 19\n",
      "Data columns (total 1 columns):\n",
      " #   Column  Non-Null Count  Dtype  \n",
      "---  ------  --------------  -----  \n",
      " 0   0       20 non-null     float32\n",
      "dtypes: float32(1)\n",
      "memory usage: 208.0 bytes\n"
     ]
    }
   ],
   "source": [
    "predicted_stock_price=pd.DataFrame(predicted_stock_price)\n",
    "predicted_stock_price.info()"
   ]
  },
  {
   "cell_type": "code",
   "execution_count": 35,
   "metadata": {},
   "outputs": [
    {
     "data": {
      "image/png": "[encoded data removed]",
      "text/plain": [
       "<Figure size 432x288 with 1 Axes>"
      ]
     },
     "metadata": {
      "needs_background": "light"
     },
     "output_type": "display_data"
    },
    {
     "data": {
      "text/plain": [
       "<Figure size 432x288 with 0 Axes>"
      ]
     },
     "metadata": {},
     "output_type": "display_data"
    }
   ],
   "source": [
    "\n",
    "# Visualising the results\n",
    "plt.plot(real_stock_price, color = 'red', label = 'Real Google Stock Price')\n",
    "plt.plot(predicted_stock_price, color = 'blue', label = 'Predicted Google Stock Price')\n",
    "plt.title('Google Stock Price Prediction')\n",
    "plt.xlabel('Time')\n",
    "plt.ylabel('Google Stock Price')\n",
    "plt.legend()\n",
    "plt.show()\n",
    "plt.savefig(\"Outputs/Final Visualization.png\")"
   ]
  }
 ],
 "metadata": {
  "kernelspec": {
   "display_name": "Python 3",
   "language": "python",
   "name": "python3"
  },
  "language_info": {
   "codemirror_mode": {
    "name": "ipython",
    "version": 3
   },
   "file_extension": ".py",
   "mimetype": "text/x-python",
   "name": "python",
   "nbconvert_exporter": "python",
   "pygments_lexer": "ipython3",
   "version": "3.7.4"
  }
 },
 "nbformat": 4,
 "nbformat_minor": 4
}
